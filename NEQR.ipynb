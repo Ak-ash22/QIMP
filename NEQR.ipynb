{
 "cells": [
  {
   "cell_type": "code",
   "execution_count": 56,
   "id": "ce803e52",
   "metadata": {},
   "outputs": [],
   "source": [
    "import numpy as np\n",
    "from qiskit import QuantumRegister, ClassicalRegister, QuantumCircuit\n",
    "import qiskit as qk\n",
    "from qiskit import QuantumCircuit, Aer, IBMQ\n",
    "from qiskit import transpile, assemble\n",
    "from qiskit.tools.jupyter import *\n",
    "from qiskit.visualization import plot_histogram\n",
    "from qiskit.quantum_info import Statevector\n",
    "from math import pi"
   ]
  },
  {
   "cell_type": "code",
   "execution_count": 43,
   "id": "0e32d0ca",
   "metadata": {},
   "outputs": [
    {
     "data": {
      "text/html": [
       "<pre style=\"word-wrap: normal;white-space: pre;background: #fff0;line-height: 1.1;font-family: &quot;Courier New&quot;,Courier,monospace\">       \n",
       " pv_0: \n",
       "       \n",
       " pv_1: \n",
       "       \n",
       " pv_2: \n",
       "       \n",
       "pos_0: \n",
       "       \n",
       "pos_1: \n",
       "       \n",
       "c11: 2/\n",
       "       </pre>"
      ],
      "text/plain": [
       "       \n",
       " pv_0: \n",
       "       \n",
       " pv_1: \n",
       "       \n",
       " pv_2: \n",
       "       \n",
       "pos_0: \n",
       "       \n",
       "pos_1: \n",
       "       \n",
       "c11: 2/\n",
       "       "
      ]
     },
     "execution_count": 43,
     "metadata": {},
     "output_type": "execute_result"
    }
   ],
   "source": [
    "qr=QuantumRegister(3,'pv')\n",
    "qr1=QuantumRegister(2,'pos')\n",
    "cr=ClassicalRegister(2)\n",
    "qc=QuantumCircuit(qr,qr1,cr)\n",
    "qc.draw()"
   ]
  },
  {
   "cell_type": "code",
   "execution_count": 44,
   "id": "06e8afec",
   "metadata": {},
   "outputs": [
    {
     "data": {
      "text/html": [
       "<pre style=\"word-wrap: normal;white-space: pre;background: #fff0;line-height: 1.1;font-family: &quot;Courier New&quot;,Courier,monospace\">       ┌───┐ ░ \n",
       " pv_0: ┤ I ├─░─\n",
       "       ├───┤ ░ \n",
       " pv_1: ┤ I ├─░─\n",
       "       ├───┤ ░ \n",
       " pv_2: ┤ I ├─░─\n",
       "       ├───┤ ░ \n",
       "pos_0: ┤ H ├─░─\n",
       "       ├───┤ ░ \n",
       "pos_1: ┤ H ├─░─\n",
       "       └───┘ ░ \n",
       "c11: 2/════════\n",
       "               </pre>"
      ],
      "text/plain": [
       "       ┌───┐ ░ \n",
       " pv_0: ┤ I ├─░─\n",
       "       ├───┤ ░ \n",
       " pv_1: ┤ I ├─░─\n",
       "       ├───┤ ░ \n",
       " pv_2: ┤ I ├─░─\n",
       "       ├───┤ ░ \n",
       "pos_0: ┤ H ├─░─\n",
       "       ├───┤ ░ \n",
       "pos_1: ┤ H ├─░─\n",
       "       └───┘ ░ \n",
       "c11: 2/════════\n",
       "               "
      ]
     },
     "execution_count": 44,
     "metadata": {},
     "output_type": "execute_result"
    }
   ],
   "source": [
    "#Setting position value\n",
    "qc.h(4)\n",
    "qc.h(3)\n",
    "for k in range(3):\n",
    "    qc.i(k)\n",
    "qc.barrier()\n",
    "qc.draw()"
   ]
  },
  {
   "cell_type": "code",
   "execution_count": 45,
   "id": "3b21b42f",
   "metadata": {},
   "outputs": [
    {
     "data": {
      "text/html": [
       "<pre style=\"word-wrap: normal;white-space: pre;background: #fff0;line-height: 1.1;font-family: &quot;Courier New&quot;,Courier,monospace\">       ┌───┐ ░      ┌───┐           ░ \n",
       " pv_0: ┤ I ├─░──────┤ X ├───────────░─\n",
       "       ├───┤ ░      └─┬─┘           ░ \n",
       " pv_1: ┤ I ├─░────────┼─────────────░─\n",
       "       ├───┤ ░        │  ┌───┐      ░ \n",
       " pv_2: ┤ I ├─░────────┼──┤ X ├──────░─\n",
       "       ├───┤ ░ ┌───┐  │  └─┬─┘┌───┐ ░ \n",
       "pos_0: ┤ H ├─░─┤ X ├──■────■──┤ X ├─░─\n",
       "       ├───┤ ░ ├───┤  │    │  ├───┤ ░ \n",
       "pos_1: ┤ H ├─░─┤ X ├──■────■──┤ X ├─░─\n",
       "       └───┘ ░ └───┘          └───┘ ░ \n",
       "c11: 2/═══════════════════════════════\n",
       "                                      </pre>"
      ],
      "text/plain": [
       "       ┌───┐ ░      ┌───┐           ░ \n",
       " pv_0: ┤ I ├─░──────┤ X ├───────────░─\n",
       "       ├───┤ ░      └─┬─┘           ░ \n",
       " pv_1: ┤ I ├─░────────┼─────────────░─\n",
       "       ├───┤ ░        │  ┌───┐      ░ \n",
       " pv_2: ┤ I ├─░────────┼──┤ X ├──────░─\n",
       "       ├───┤ ░ ┌───┐  │  └─┬─┘┌───┐ ░ \n",
       "pos_0: ┤ H ├─░─┤ X ├──■────■──┤ X ├─░─\n",
       "       ├───┤ ░ ├───┤  │    │  ├───┤ ░ \n",
       "pos_1: ┤ H ├─░─┤ X ├──■────■──┤ X ├─░─\n",
       "       └───┘ ░ └───┘          └───┘ ░ \n",
       "c11: 2/═══════════════════════════════\n",
       "                                      "
      ]
     },
     "execution_count": 45,
     "metadata": {},
     "output_type": "execute_result"
    }
   ],
   "source": [
    "#pixel1\n",
    "qc.x(3)\n",
    "qc.x(4)\n",
    "qc.ccx(3,4,0)\n",
    "qc.ccx(3,4,2)\n",
    "qc.x(3)\n",
    "qc.x(4)\n",
    "qc.barrier()\n",
    "qc.draw()"
   ]
  },
  {
   "cell_type": "code",
   "execution_count": 46,
   "id": "301a8bf1",
   "metadata": {},
   "outputs": [
    {
     "data": {
      "text/html": [
       "<pre style=\"word-wrap: normal;white-space: pre;background: #fff0;line-height: 1.1;font-family: &quot;Courier New&quot;,Courier,monospace\">       ┌───┐ ░      ┌───┐           ░                      ░ \n",
       " pv_0: ┤ I ├─░──────┤ X ├───────────░──────────────────────░─\n",
       "       ├───┤ ░      └─┬─┘           ░      ┌───┐           ░ \n",
       " pv_1: ┤ I ├─░────────┼─────────────░──────┤ X ├───────────░─\n",
       "       ├───┤ ░        │  ┌───┐      ░      └─┬─┘┌───┐      ░ \n",
       " pv_2: ┤ I ├─░────────┼──┤ X ├──────░────────┼──┤ X ├──────░─\n",
       "       ├───┤ ░ ┌───┐  │  └─┬─┘┌───┐ ░        │  └─┬─┘      ░ \n",
       "pos_0: ┤ H ├─░─┤ X ├──■────■──┤ X ├─░────────■────■────────░─\n",
       "       ├───┤ ░ ├───┤  │    │  ├───┤ ░ ┌───┐  │    │  ┌───┐ ░ \n",
       "pos_1: ┤ H ├─░─┤ X ├──■────■──┤ X ├─░─┤ X ├──■────■──┤ X ├─░─\n",
       "       └───┘ ░ └───┘          └───┘ ░ └───┘          └───┘ ░ \n",
       "c11: 2/══════════════════════════════════════════════════════\n",
       "                                                             </pre>"
      ],
      "text/plain": [
       "       ┌───┐ ░      ┌───┐           ░                      ░ \n",
       " pv_0: ┤ I ├─░──────┤ X ├───────────░──────────────────────░─\n",
       "       ├───┤ ░      └─┬─┘           ░      ┌───┐           ░ \n",
       " pv_1: ┤ I ├─░────────┼─────────────░──────┤ X ├───────────░─\n",
       "       ├───┤ ░        │  ┌───┐      ░      └─┬─┘┌───┐      ░ \n",
       " pv_2: ┤ I ├─░────────┼──┤ X ├──────░────────┼──┤ X ├──────░─\n",
       "       ├───┤ ░ ┌───┐  │  └─┬─┘┌───┐ ░        │  └─┬─┘      ░ \n",
       "pos_0: ┤ H ├─░─┤ X ├──■────■──┤ X ├─░────────■────■────────░─\n",
       "       ├───┤ ░ ├───┤  │    │  ├───┤ ░ ┌───┐  │    │  ┌───┐ ░ \n",
       "pos_1: ┤ H ├─░─┤ X ├──■────■──┤ X ├─░─┤ X ├──■────■──┤ X ├─░─\n",
       "       └───┘ ░ └───┘          └───┘ ░ └───┘          └───┘ ░ \n",
       "c11: 2/══════════════════════════════════════════════════════\n",
       "                                                             "
      ]
     },
     "execution_count": 46,
     "metadata": {},
     "output_type": "execute_result"
    }
   ],
   "source": [
    "#pixel2\n",
    "qc.x(4)\n",
    "qc.ccx(3,4,1)\n",
    "qc.ccx(3,4,2)\n",
    "qc.x(4)\n",
    "qc.barrier()\n",
    "qc.draw()"
   ]
  },
  {
   "cell_type": "code",
   "execution_count": 47,
   "id": "56cea8e6",
   "metadata": {},
   "outputs": [
    {
     "data": {
      "text/html": [
       "<pre style=\"word-wrap: normal;white-space: pre;background: #fff0;line-height: 1.1;font-family: &quot;Courier New&quot;,Courier,monospace\">       ┌───┐ ░      ┌───┐           ░                      ░      ┌───┐     »\n",
       " pv_0: ┤ I ├─░──────┤ X ├───────────░──────────────────────░──────┤ X ├─────»\n",
       "       ├───┤ ░      └─┬─┘           ░      ┌───┐           ░      └─┬─┘┌───┐»\n",
       " pv_1: ┤ I ├─░────────┼─────────────░──────┤ X ├───────────░────────┼──┤ X ├»\n",
       "       ├───┤ ░        │  ┌───┐      ░      └─┬─┘┌───┐      ░        │  └─┬─┘»\n",
       " pv_2: ┤ I ├─░────────┼──┤ X ├──────░────────┼──┤ X ├──────░────────┼────┼──»\n",
       "       ├───┤ ░ ┌───┐  │  └─┬─┘┌───┐ ░        │  └─┬─┘      ░ ┌───┐  │    │  »\n",
       "pos_0: ┤ H ├─░─┤ X ├──■────■──┤ X ├─░────────■────■────────░─┤ X ├──■────■──»\n",
       "       ├───┤ ░ ├───┤  │    │  ├───┤ ░ ┌───┐  │    │  ┌───┐ ░ └───┘  │    │  »\n",
       "pos_1: ┤ H ├─░─┤ X ├──■────■──┤ X ├─░─┤ X ├──■────■──┤ X ├─░────────■────■──»\n",
       "       └───┘ ░ └───┘          └───┘ ░ └───┘          └───┘ ░                »\n",
       "c11: 2/═════════════════════════════════════════════════════════════════════»\n",
       "                                                                            »\n",
       "«                  ░ \n",
       "« pv_0: ───────────░─\n",
       "«                  ░ \n",
       "« pv_1: ───────────░─\n",
       "«       ┌───┐      ░ \n",
       "« pv_2: ┤ X ├──────░─\n",
       "«       └─┬─┘┌───┐ ░ \n",
       "«pos_0: ──■──┤ X ├─░─\n",
       "«         │  └───┘ ░ \n",
       "«pos_1: ──■────────░─\n",
       "«                  ░ \n",
       "«c11: 2/═════════════\n",
       "«                    </pre>"
      ],
      "text/plain": [
       "       ┌───┐ ░      ┌───┐           ░                      ░      ┌───┐     »\n",
       " pv_0: ┤ I ├─░──────┤ X ├───────────░──────────────────────░──────┤ X ├─────»\n",
       "       ├───┤ ░      └─┬─┘           ░      ┌───┐           ░      └─┬─┘┌───┐»\n",
       " pv_1: ┤ I ├─░────────┼─────────────░──────┤ X ├───────────░────────┼──┤ X ├»\n",
       "       ├───┤ ░        │  ┌───┐      ░      └─┬─┘┌───┐      ░        │  └─┬─┘»\n",
       " pv_2: ┤ I ├─░────────┼──┤ X ├──────░────────┼──┤ X ├──────░────────┼────┼──»\n",
       "       ├───┤ ░ ┌───┐  │  └─┬─┘┌───┐ ░        │  └─┬─┘      ░ ┌───┐  │    │  »\n",
       "pos_0: ┤ H ├─░─┤ X ├──■────■──┤ X ├─░────────■────■────────░─┤ X ├──■────■──»\n",
       "       ├───┤ ░ ├───┤  │    │  ├───┤ ░ ┌───┐  │    │  ┌───┐ ░ └───┘  │    │  »\n",
       "pos_1: ┤ H ├─░─┤ X ├──■────■──┤ X ├─░─┤ X ├──■────■──┤ X ├─░────────■────■──»\n",
       "       └───┘ ░ └───┘          └───┘ ░ └───┘          └───┘ ░                »\n",
       "c11: 2/═════════════════════════════════════════════════════════════════════»\n",
       "                                                                            »\n",
       "«                  ░ \n",
       "« pv_0: ───────────░─\n",
       "«                  ░ \n",
       "« pv_1: ───────────░─\n",
       "«       ┌───┐      ░ \n",
       "« pv_2: ┤ X ├──────░─\n",
       "«       └─┬─┘┌───┐ ░ \n",
       "«pos_0: ──■──┤ X ├─░─\n",
       "«         │  └───┘ ░ \n",
       "«pos_1: ──■────────░─\n",
       "«                  ░ \n",
       "«c11: 2/═════════════\n",
       "«                    "
      ]
     },
     "execution_count": 47,
     "metadata": {},
     "output_type": "execute_result"
    }
   ],
   "source": [
    "#pixel3\n",
    "qc.x(3)\n",
    "qc.ccx(3,4,0)\n",
    "qc.ccx(3,4,1)\n",
    "qc.ccx(3,4,2)\n",
    "qc.x(3)\n",
    "qc.barrier()\n",
    "qc.draw()"
   ]
  },
  {
   "cell_type": "code",
   "execution_count": 48,
   "id": "bcfbfba9",
   "metadata": {},
   "outputs": [
    {
     "data": {
      "text/html": [
       "<pre style=\"word-wrap: normal;white-space: pre;background: #fff0;line-height: 1.1;font-family: &quot;Courier New&quot;,Courier,monospace\">       ┌───┐ ░      ┌───┐           ░                      ░      ┌───┐     »\n",
       " pv_0: ┤ I ├─░──────┤ X ├───────────░──────────────────────░──────┤ X ├─────»\n",
       "       ├───┤ ░      └─┬─┘           ░      ┌───┐           ░      └─┬─┘┌───┐»\n",
       " pv_1: ┤ I ├─░────────┼─────────────░──────┤ X ├───────────░────────┼──┤ X ├»\n",
       "       ├───┤ ░        │  ┌───┐      ░      └─┬─┘┌───┐      ░        │  └─┬─┘»\n",
       " pv_2: ┤ I ├─░────────┼──┤ X ├──────░────────┼──┤ X ├──────░────────┼────┼──»\n",
       "       ├───┤ ░ ┌───┐  │  └─┬─┘┌───┐ ░        │  └─┬─┘      ░ ┌───┐  │    │  »\n",
       "pos_0: ┤ H ├─░─┤ X ├──■────■──┤ X ├─░────────■────■────────░─┤ X ├──■────■──»\n",
       "       ├───┤ ░ ├───┤  │    │  ├───┤ ░ ┌───┐  │    │  ┌───┐ ░ └───┘  │    │  »\n",
       "pos_1: ┤ H ├─░─┤ X ├──■────■──┤ X ├─░─┤ X ├──■────■──┤ X ├─░────────■────■──»\n",
       "       └───┘ ░ └───┘          └───┘ ░ └───┘          └───┘ ░                »\n",
       "c11: 2/═════════════════════════════════════════════════════════════════════»\n",
       "                                                                            »\n",
       "«                  ░ ┌───┐ ░ \n",
       "« pv_0: ───────────░─┤ I ├─░─\n",
       "«                  ░ ├───┤ ░ \n",
       "« pv_1: ───────────░─┤ I ├─░─\n",
       "«       ┌───┐      ░ ├───┤ ░ \n",
       "« pv_2: ┤ X ├──────░─┤ I ├─░─\n",
       "«       └─┬─┘┌───┐ ░ └───┘ ░ \n",
       "«pos_0: ──■──┤ X ├─░───────░─\n",
       "«         │  └───┘ ░       ░ \n",
       "«pos_1: ──■────────░───────░─\n",
       "«                  ░       ░ \n",
       "«c11: 2/═════════════════════\n",
       "«                            </pre>"
      ],
      "text/plain": [
       "       ┌───┐ ░      ┌───┐           ░                      ░      ┌───┐     »\n",
       " pv_0: ┤ I ├─░──────┤ X ├───────────░──────────────────────░──────┤ X ├─────»\n",
       "       ├───┤ ░      └─┬─┘           ░      ┌───┐           ░      └─┬─┘┌───┐»\n",
       " pv_1: ┤ I ├─░────────┼─────────────░──────┤ X ├───────────░────────┼──┤ X ├»\n",
       "       ├───┤ ░        │  ┌───┐      ░      └─┬─┘┌───┐      ░        │  └─┬─┘»\n",
       " pv_2: ┤ I ├─░────────┼──┤ X ├──────░────────┼──┤ X ├──────░────────┼────┼──»\n",
       "       ├───┤ ░ ┌───┐  │  └─┬─┘┌───┐ ░        │  └─┬─┘      ░ ┌───┐  │    │  »\n",
       "pos_0: ┤ H ├─░─┤ X ├──■────■──┤ X ├─░────────■────■────────░─┤ X ├──■────■──»\n",
       "       ├───┤ ░ ├───┤  │    │  ├───┤ ░ ┌───┐  │    │  ┌───┐ ░ └───┘  │    │  »\n",
       "pos_1: ┤ H ├─░─┤ X ├──■────■──┤ X ├─░─┤ X ├──■────■──┤ X ├─░────────■────■──»\n",
       "       └───┘ ░ └───┘          └───┘ ░ └───┘          └───┘ ░                »\n",
       "c11: 2/═════════════════════════════════════════════════════════════════════»\n",
       "                                                                            »\n",
       "«                  ░ ┌───┐ ░ \n",
       "« pv_0: ───────────░─┤ I ├─░─\n",
       "«                  ░ ├───┤ ░ \n",
       "« pv_1: ───────────░─┤ I ├─░─\n",
       "«       ┌───┐      ░ ├───┤ ░ \n",
       "« pv_2: ┤ X ├──────░─┤ I ├─░─\n",
       "«       └─┬─┘┌───┐ ░ └───┘ ░ \n",
       "«pos_0: ──■──┤ X ├─░───────░─\n",
       "«         │  └───┘ ░       ░ \n",
       "«pos_1: ──■────────░───────░─\n",
       "«                  ░       ░ \n",
       "«c11: 2/═════════════════════\n",
       "«                            "
      ]
     },
     "execution_count": 48,
     "metadata": {},
     "output_type": "execute_result"
    }
   ],
   "source": [
    "#pixel4\n",
    "for k in range(3):\n",
    "    qc.i(k)\n",
    "qc.barrier()\n",
    "qc.draw()"
   ]
  },
  {
   "cell_type": "code",
   "execution_count": 49,
   "id": "4ef1645c",
   "metadata": {},
   "outputs": [
    {
     "data": {
      "text/html": [
       "<pre style=\"word-wrap: normal;white-space: pre;background: #fff0;line-height: 1.1;font-family: &quot;Courier New&quot;,Courier,monospace\">        ┌───┐ ░      ┌───┐           ░                      ░      ┌───┐     »\n",
       "  pv_0: ┤ I ├─░──────┤ X ├───────────░──────────────────────░──────┤ X ├─────»\n",
       "        ├───┤ ░      └─┬─┘           ░      ┌───┐           ░      └─┬─┘┌───┐»\n",
       "  pv_1: ┤ I ├─░────────┼─────────────░──────┤ X ├───────────░────────┼──┤ X ├»\n",
       "        ├───┤ ░        │  ┌───┐      ░      └─┬─┘┌───┐      ░        │  └─┬─┘»\n",
       "  pv_2: ┤ I ├─░────────┼──┤ X ├──────░────────┼──┤ X ├──────░────────┼────┼──»\n",
       "        ├───┤ ░ ┌───┐  │  └─┬─┘┌───┐ ░        │  └─┬─┘      ░ ┌───┐  │    │  »\n",
       " pos_0: ┤ H ├─░─┤ X ├──■────■──┤ X ├─░────────■────■────────░─┤ X ├──■────■──»\n",
       "        ├───┤ ░ ├───┤  │    │  ├───┤ ░ ┌───┐  │    │  ┌───┐ ░ └───┘  │    │  »\n",
       " pos_1: ┤ H ├─░─┤ X ├──■────■──┤ X ├─░─┤ X ├──■────■──┤ X ├─░────────■────■──»\n",
       "        └───┘ ░ └───┘          └───┘ ░ └───┘          └───┘ ░                »\n",
       " c11: 2/═════════════════════════════════════════════════════════════════════»\n",
       "                                                                             »\n",
       "meas: 5/═════════════════════════════════════════════════════════════════════»\n",
       "                                                                             »\n",
       "«                   ░ ┌───┐ ░  ░ ┌─┐            \n",
       "«  pv_0: ───────────░─┤ I ├─░──░─┤M├────────────\n",
       "«                   ░ ├───┤ ░  ░ └╥┘┌─┐         \n",
       "«  pv_1: ───────────░─┤ I ├─░──░──╫─┤M├─────────\n",
       "«        ┌───┐      ░ ├───┤ ░  ░  ║ └╥┘┌─┐      \n",
       "«  pv_2: ┤ X ├──────░─┤ I ├─░──░──╫──╫─┤M├──────\n",
       "«        └─┬─┘┌───┐ ░ └───┘ ░  ░  ║  ║ └╥┘┌─┐   \n",
       "« pos_0: ──■──┤ X ├─░───────░──░──╫──╫──╫─┤M├───\n",
       "«          │  └───┘ ░       ░  ░  ║  ║  ║ └╥┘┌─┐\n",
       "« pos_1: ──■────────░───────░──░──╫──╫──╫──╫─┤M├\n",
       "«                   ░       ░  ░  ║  ║  ║  ║ └╥┘\n",
       "« c11: 2/═════════════════════════╬══╬══╬══╬══╬═\n",
       "«                                 ║  ║  ║  ║  ║ \n",
       "«meas: 5/═════════════════════════╩══╩══╩══╩══╩═\n",
       "«                                 0  1  2  3  4 </pre>"
      ],
      "text/plain": [
       "        ┌───┐ ░      ┌───┐           ░                      ░      ┌───┐     »\n",
       "  pv_0: ┤ I ├─░──────┤ X ├───────────░──────────────────────░──────┤ X ├─────»\n",
       "        ├───┤ ░      └─┬─┘           ░      ┌───┐           ░      └─┬─┘┌───┐»\n",
       "  pv_1: ┤ I ├─░────────┼─────────────░──────┤ X ├───────────░────────┼──┤ X ├»\n",
       "        ├───┤ ░        │  ┌───┐      ░      └─┬─┘┌───┐      ░        │  └─┬─┘»\n",
       "  pv_2: ┤ I ├─░────────┼──┤ X ├──────░────────┼──┤ X ├──────░────────┼────┼──»\n",
       "        ├───┤ ░ ┌───┐  │  └─┬─┘┌───┐ ░        │  └─┬─┘      ░ ┌───┐  │    │  »\n",
       " pos_0: ┤ H ├─░─┤ X ├──■────■──┤ X ├─░────────■────■────────░─┤ X ├──■────■──»\n",
       "        ├───┤ ░ ├───┤  │    │  ├───┤ ░ ┌───┐  │    │  ┌───┐ ░ └───┘  │    │  »\n",
       " pos_1: ┤ H ├─░─┤ X ├──■────■──┤ X ├─░─┤ X ├──■────■──┤ X ├─░────────■────■──»\n",
       "        └───┘ ░ └───┘          └───┘ ░ └───┘          └───┘ ░                »\n",
       " c11: 2/═════════════════════════════════════════════════════════════════════»\n",
       "                                                                             »\n",
       "meas: 5/═════════════════════════════════════════════════════════════════════»\n",
       "                                                                             »\n",
       "«                   ░ ┌───┐ ░  ░ ┌─┐            \n",
       "«  pv_0: ───────────░─┤ I ├─░──░─┤M├────────────\n",
       "«                   ░ ├───┤ ░  ░ └╥┘┌─┐         \n",
       "«  pv_1: ───────────░─┤ I ├─░──░──╫─┤M├─────────\n",
       "«        ┌───┐      ░ ├───┤ ░  ░  ║ └╥┘┌─┐      \n",
       "«  pv_2: ┤ X ├──────░─┤ I ├─░──░──╫──╫─┤M├──────\n",
       "«        └─┬─┘┌───┐ ░ └───┘ ░  ░  ║  ║ └╥┘┌─┐   \n",
       "« pos_0: ──■──┤ X ├─░───────░──░──╫──╫──╫─┤M├───\n",
       "«          │  └───┘ ░       ░  ░  ║  ║  ║ └╥┘┌─┐\n",
       "« pos_1: ──■────────░───────░──░──╫──╫──╫──╫─┤M├\n",
       "«                   ░       ░  ░  ║  ║  ║  ║ └╥┘\n",
       "« c11: 2/═════════════════════════╬══╬══╬══╬══╬═\n",
       "«                                 ║  ║  ║  ║  ║ \n",
       "«meas: 5/═════════════════════════╩══╩══╩══╩══╩═\n",
       "«                                 0  1  2  3  4 "
      ]
     },
     "execution_count": 49,
     "metadata": {},
     "output_type": "execute_result"
    }
   ],
   "source": [
    "qc.measure_all()\n",
    "qc.draw()"
   ]
  },
  {
   "cell_type": "code",
   "execution_count": 59,
   "id": "91e065ef",
   "metadata": {
    "scrolled": false
   },
   "outputs": [
    {
     "name": "stdout",
     "output_type": "stream",
     "text": [
      "{'00101 00': 2204, '10111 00': 2232, '11000 00': 2217, '01110 00': 2259}\n"
     ]
    },
    {
     "data": {
      "image/png": "[encoded data removed]",
      "text/plain": [
       "<Figure size 504x360 with 1 Axes>"
      ]
     },
     "execution_count": 59,
     "metadata": {},
     "output_type": "execute_result"
    }
   ],
   "source": [
    "#Running on simulator\n",
    "aer_sim=Aer.get_backend('aer_simulator')\n",
    "qc.save_statevector()\n",
    "t_qc=transpile(qc,aer_sim)\n",
    "job=aer_sim.run(t_qc, shots=8912)\n",
    "result=job.result()\n",
    "counts=result.get_counts()\n",
    "print(counts)\n",
    "plot_histogram(counts)"
   ]
  },
  {
   "cell_type": "code",
   "execution_count": 53,
   "id": "6a264a95",
   "metadata": {},
   "outputs": [
    {
     "name": "stdout",
     "output_type": "stream",
     "text": [
      "Circuit dimensions\n",
      "Circuit depth:  79\n",
      "Circuit size:  126\n"
     ]
    },
    {
     "data": {
      "text/plain": [
       "OrderedDict([('cx', 42),\n",
       "             ('t', 28),\n",
       "             ('tdg', 21),\n",
       "             ('h', 14),\n",
       "             ('u3', 8),\n",
       "             ('id', 6),\n",
       "             ('barrier', 6),\n",
       "             ('measure', 5),\n",
       "             ('u2', 2)])"
      ]
     },
     "execution_count": 53,
     "metadata": {},
     "output_type": "execute_result"
    }
   ],
   "source": [
    "#circuitanalysis\n",
    "print('Circuit dimensions')\n",
    "print('Circuit depth: ',qc.decompose().depth())\n",
    "print('Circuit size: ',qc.decompose().size())\n",
    "qc.decompose().count_ops()"
   ]
  },
  {
   "cell_type": "code",
   "execution_count": null,
   "id": "3d6acc23",
   "metadata": {},
   "outputs": [],
   "source": []
  }
 ],
 "metadata": {
  "kernelspec": {
   "display_name": "Python 3 (ipykernel)",
   "language": "python",
   "name": "python3"
  },
  "language_info": {
   "codemirror_mode": {
    "name": "ipython",
    "version": 3
   },
   "file_extension": ".py",
   "mimetype": "text/x-python",
   "name": "python",
   "nbconvert_exporter": "python",
   "pygments_lexer": "ipython3",
   "version": "3.8.10"
  }
 },
 "nbformat": 4,
 "nbformat_minor": 5
}
